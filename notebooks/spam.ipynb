{
 "cells": [
  {
   "cell_type": "code",
   "execution_count": 1,
   "metadata": {},
   "outputs": [],
   "source": [
    "import re\n",
    "\n",
    "from sklearn.model_selection import StratifiedKFold, train_test_split\n",
    "from sklearn.metrics import accuracy_score, precision_score, recall_score\n",
    "\n",
    "from sklearn.linear_model import LogisticRegression\n",
    "from sklearn.ensemble import RandomForestClassifier\n",
    "from sklearn.naive_bayes import MultinomialNB\n",
    "from lightgbm import LGBMClassifier\n",
    "\n",
    "from emoji import UNICODE_EMOJI\n",
    "from nltk.tokenize.casual import EMOTICON_RE\n",
    "\n",
    "from scipy import sparse\n",
    "import numpy as np\n",
    "import pandas as pd\n",
    "import seaborn as sns\n",
    "\n",
    "from eventdetector.spam import StemmedTfidfVectorizer\n",
    "from eventdetector.constant import stopwords"
   ]
  },
  {
   "cell_type": "code",
   "execution_count": 2,
   "metadata": {},
   "outputs": [],
   "source": [
    "polluters = \"../data/honeypot/content_polluters_tweets.txt\"\n",
    "legit_users = \"../data/honeypot/legitimate_users_tweets.txt\""
   ]
  },
  {
   "cell_type": "markdown",
   "metadata": {},
   "source": [
    "## Pre-processing"
   ]
  },
  {
   "cell_type": "code",
   "execution_count": 3,
   "metadata": {},
   "outputs": [],
   "source": [
    "def count_currency_symbols(text):\n",
    "    count = (text.count(\"$\")\n",
    "             + text.count(\"€\")\n",
    "             + text.count(\"£\"))\n",
    "    return count / len(text)\n",
    "\n",
    "def count_capital_letter(text):\n",
    "    count = 0\n",
    "    for c in text:\n",
    "        if c.isupper():\n",
    "            count += 1\n",
    "    return count / len(text)\n",
    "\n",
    "def count_numbers(text):\n",
    "    count = 0\n",
    "    for c in text:\n",
    "        if c.isdigit():\n",
    "            count += 1\n",
    "    return count / len(text)\n",
    "\n",
    "def has_emoticon(text):\n",
    "    # not-used\n",
    "    re_match = EMOTICON_RE.match(text)\n",
    "    emoticon = 1 if re_match else 0\n",
    "    if not emoticon:\n",
    "        for c in text:\n",
    "            if c in UNICODE_EMOJI:\n",
    "                emoticon = 1\n",
    "                break\n",
    "    return emoticon\n",
    "\n",
    "def has_question_word(text):\n",
    "    # not-used\n",
    "    words = [\"what\", \"when\", \"where\", \"which\", \"who\", \"why\", \"how\"]\n",
    "    question = 0\n",
    "    for word in words:\n",
    "        if word in text:\n",
    "            question = 1\n",
    "            break\n",
    "    return question\n",
    "\n",
    "def get_features(text):\n",
    "    currency = count_currency_symbols(text)\n",
    "    capital = count_capital_letter(text)\n",
    "    number = count_numbers(text)\n",
    "    return currency, capital, number"
   ]
  },
  {
   "cell_type": "code",
   "execution_count": 4,
   "metadata": {},
   "outputs": [],
   "source": [
    "def get(path):\n",
    "    texts = []\n",
    "    features = []\n",
    "    with open(path, \"r\") as f:\n",
    "        for i, line in enumerate(f):\n",
    "            if i == 50_000:\n",
    "                break\n",
    "            text = line.split(\"\\t\")[2]\n",
    "            texts.append(text)\n",
    "            feature = get_features(text)\n",
    "            features.append(feature)\n",
    "    return texts, features"
   ]
  },
  {
   "cell_type": "code",
   "execution_count": 5,
   "metadata": {},
   "outputs": [],
   "source": [
    "names = [\"currency\", \"capital\", \"number\"]"
   ]
  },
  {
   "cell_type": "code",
   "execution_count": 6,
   "metadata": {},
   "outputs": [],
   "source": [
    "p_texts, p_features = get(polluters)\n",
    "n_texts, n_features = get(legit_users)\n",
    "texts = p_texts + n_texts\n",
    "features = p_features + n_features"
   ]
  },
  {
   "cell_type": "code",
   "execution_count": 7,
   "metadata": {},
   "outputs": [
    {
     "name": "stdout",
     "output_type": "stream",
     "text": [
      "Spam: 50000 Not spam: 50000\n"
     ]
    }
   ],
   "source": [
    "n_p, n_n = len(p_texts), len(n_texts)\n",
    "print(\"Spam:\", n_p, \"Not spam:\", n_n)\n",
    "labels = np.array([1] * n_p + [0] * n_n)"
   ]
  },
  {
   "cell_type": "code",
   "execution_count": 8,
   "metadata": {},
   "outputs": [],
   "source": [
    "features = np.array(features)\n",
    "texts = np.array(texts)"
   ]
  },
  {
   "cell_type": "code",
   "execution_count": 9,
   "metadata": {},
   "outputs": [],
   "source": [
    "splitted = train_test_split(texts, features, labels, test_size=0.2,\n",
    "                            shuffle=True, random_state=0,\n",
    "                            stratify=labels)\n",
    "train_texts, test_texts, train_features, test_features, train_labels, test_labels = splitted"
   ]
  },
  {
   "cell_type": "code",
   "execution_count": 10,
   "metadata": {},
   "outputs": [],
   "source": [
    "vectorizer = StemmedTfidfVectorizer(\n",
    "    sublinear_tf=True, max_features=2500, stop_words=stopwords\n",
    ")"
   ]
  },
  {
   "cell_type": "code",
   "execution_count": 11,
   "metadata": {},
   "outputs": [],
   "source": [
    "def get_featurized_folds(features, texts, labels):\n",
    "    vectorizer = StemmedTfidfVectorizer(\n",
    "        sublinear_tf=True, max_features=2500, stop_words=stopwords\n",
    "    )\n",
    "\n",
    "    skf = StratifiedKFold(n_splits=3, random_state=0, shuffle=True)\n",
    "    datas = []\n",
    "    for train_index, val_index in skf.split(features, labels):\n",
    "\n",
    "        tra_features, val_features = features[train_index], features[val_index]\n",
    "        tra_texts, val_texts = texts[train_index], texts[val_index]\n",
    "        tra_labels, val_labels = labels[train_index], labels[val_index]\n",
    "\n",
    "        tra_texts = vectorizer.fit_transform(tra_texts)\n",
    "        tra_data = sparse.hstack((tra_texts, tra_features))\n",
    "\n",
    "        val_texts = vectorizer.transform(val_texts)\n",
    "        val_data = sparse.hstack((val_texts, val_features))\n",
    "        datas.append((tra_data, val_data, tra_labels, val_labels))\n",
    "\n",
    "    return datas"
   ]
  },
  {
   "cell_type": "code",
   "execution_count": 12,
   "metadata": {},
   "outputs": [],
   "source": [
    "datas = get_featurized_folds(train_features, train_texts, train_labels)"
   ]
  },
  {
   "cell_type": "markdown",
   "metadata": {},
   "source": [
    "## Model Evaluation"
   ]
  },
  {
   "cell_type": "code",
   "execution_count": 13,
   "metadata": {},
   "outputs": [],
   "source": [
    "def print_avg(scores):\n",
    "    print(\"Average\")\n",
    "    for k in scores:\n",
    "        print(k + \":\", round(np.mean(scores[k]), 3))"
   ]
  },
  {
   "cell_type": "markdown",
   "metadata": {},
   "source": [
    "### LightGBM"
   ]
  },
  {
   "cell_type": "code",
   "execution_count": 14,
   "metadata": {},
   "outputs": [
    {
     "name": "stdout",
     "output_type": "stream",
     "text": [
      "Training until validation scores don't improve for 50 rounds\n",
      "[50]\tvalid_0's binary_logloss: 0.466845\n",
      "[100]\tvalid_0's binary_logloss: 0.454925\n",
      "[150]\tvalid_0's binary_logloss: 0.4551\n",
      "Early stopping, best iteration is:\n",
      "[122]\tvalid_0's binary_logloss: 0.453953\n"
     ]
    },
    {
     "name": "stderr",
     "output_type": "stream",
     "text": [
      "/home/ihsan/workspace/eventdetector/env/lib/python3.7/site-packages/lightgbm/basic.py:546: UserWarning: Converting data to scipy sparse matrix.\n",
      "  warnings.warn('Converting data to scipy sparse matrix.')\n"
     ]
    },
    {
     "name": "stdout",
     "output_type": "stream",
     "text": [
      "Acc: 0.772 Prec: 0.789 Rec: 0.743\n",
      "Training until validation scores don't improve for 50 rounds\n",
      "[50]\tvalid_0's binary_logloss: 0.464745\n",
      "[100]\tvalid_0's binary_logloss: 0.453146\n",
      "[150]\tvalid_0's binary_logloss: 0.452827\n",
      "Early stopping, best iteration is:\n",
      "[115]\tvalid_0's binary_logloss: 0.452154\n",
      "Acc: 0.777 Prec: 0.792 Rec: 0.753\n",
      "Training until validation scores don't improve for 50 rounds\n",
      "[50]\tvalid_0's binary_logloss: 0.46888\n",
      "[100]\tvalid_0's binary_logloss: 0.45785\n",
      "[150]\tvalid_0's binary_logloss: 0.458655\n",
      "Early stopping, best iteration is:\n",
      "[111]\tvalid_0's binary_logloss: 0.457444\n",
      "Acc: 0.771 Prec: 0.785 Rec: 0.746\n"
     ]
    }
   ],
   "source": [
    "importance = pd.DataFrame()\n",
    "scores = {\"acc\": [], \"prec\": [], \"rec\": []}\n",
    "for i, (tra_data, val_data, tra_labels, val_labels) in enumerate(datas):\n",
    "\n",
    "    model = LGBMClassifier(\n",
    "        random_state=0,\n",
    "        learning_rate=0.1,\n",
    "        n_estimators=5000,\n",
    "        num_leaves=150,\n",
    "        max_depth=200,\n",
    "        min_child_samples=10,\n",
    "        subsample=0.9,\n",
    "        subsample_freq=1,\n",
    "        colsample_bytree=0.9,\n",
    "        n_jobs=-1,\n",
    "    )\n",
    "    model.fit(\n",
    "        tra_data,\n",
    "        tra_labels,\n",
    "        eval_set=[(val_data, val_labels)],\n",
    "        early_stopping_rounds=50,\n",
    "        verbose=50,\n",
    "    )\n",
    "\n",
    "    predicted = model.predict(val_data)\n",
    "\n",
    "    acc = accuracy_score(val_labels, predicted)\n",
    "    scores[\"acc\"].append(acc)\n",
    "    prec = precision_score(val_labels, predicted)\n",
    "    scores[\"prec\"].append(prec)\n",
    "    rec = recall_score(val_labels, predicted)\n",
    "    scores[\"rec\"].append(rec)\n",
    "    print(\"Acc:\", round(acc, 3), \"Prec:\", round(prec, 3), \"Rec:\", round(rec, 3))\n",
    "\n",
    "    importance_vals = model.feature_importances_[-len(names):]\n",
    "    importance_fold = pd.DataFrame({\"cols\": names, \"fold\": i,\n",
    "                                    \"importance\": importance_vals})\n",
    "    importance = pd.concat([importance, importance_fold])"
   ]
  },
  {
   "cell_type": "code",
   "execution_count": 15,
   "metadata": {},
   "outputs": [
    {
     "data": {
      "image/png": "[encoded data removed]",
      "text/plain": [
       "<Figure size 360x360 with 1 Axes>"
      ]
     },
     "metadata": {
      "needs_background": "light"
     },
     "output_type": "display_data"
    }
   ],
   "source": [
    "sns.catplot(x=\"cols\", y=\"importance\", kind=\"bar\", data=importance);"
   ]
  },
  {
   "cell_type": "code",
   "execution_count": 16,
   "metadata": {},
   "outputs": [
    {
     "name": "stdout",
     "output_type": "stream",
     "text": [
      "Average\n",
      "acc: 0.773\n",
      "prec: 0.788\n",
      "rec: 0.747\n"
     ]
    }
   ],
   "source": [
    "print_avg(scores)"
   ]
  },
  {
   "cell_type": "code",
   "execution_count": 17,
   "metadata": {},
   "outputs": [
    {
     "name": "stdout",
     "output_type": "stream",
     "text": [
      "Acc: 0.779 Prec: 0.799 Rec: 0.745\n"
     ]
    }
   ],
   "source": [
    "tra_texts = vectorizer.fit_transform(train_texts)\n",
    "tes_texts = vectorizer.transform(test_texts)\n",
    "tra_data = sparse.hstack((tra_texts, train_features))\n",
    "tes_data = sparse.hstack((tes_texts, test_features))\n",
    "    \n",
    "model = LGBMClassifier(random_state=0, n_estimators=115,\n",
    "                       num_leaves=150, max_depth=200,\n",
    "                       min_child_samples=10, subsample=0.9,\n",
    "                       subsample_freq=1, colsample_bytree=0.9,\n",
    "                       n_jobs=-1)\n",
    "model.fit(tra_data, train_labels)\n",
    "predicted = model.predict(tes_data)\n",
    "\n",
    "acc = accuracy_score(test_labels, predicted)\n",
    "prec = precision_score(test_labels, predicted)\n",
    "rec = recall_score(test_labels, predicted)\n",
    "\n",
    "print(\"Acc:\", round(acc, 3),\n",
    "      \"Prec:\", round(prec, 3),\n",
    "      \"Rec:\", round(rec, 3))"
   ]
  },
  {
   "cell_type": "markdown",
   "metadata": {},
   "source": [
    "### Random Forest"
   ]
  },
  {
   "cell_type": "code",
   "execution_count": 18,
   "metadata": {},
   "outputs": [
    {
     "name": "stdout",
     "output_type": "stream",
     "text": [
      "Acc: 0.762 Prec: 0.787 Rec: 0.719\n",
      "Acc: 0.774 Prec: 0.797 Rec: 0.735\n",
      "Acc: 0.764 Prec: 0.783 Rec: 0.729\n"
     ]
    }
   ],
   "source": [
    "scores = {\"acc\":[], \"prec\": [], \"rec\": []}\n",
    "importance = pd.DataFrame()\n",
    "for tra_data, val_data, tra_labels, val_labels in datas:\n",
    "\n",
    "    model = RandomForestClassifier(\n",
    "        random_state=0,\n",
    "        n_jobs=-1,\n",
    "        n_estimators=200,\n",
    "        max_depth=200,\n",
    "        min_samples_leaf=1,\n",
    "    )\n",
    "    model.fit(tra_data, tra_labels)\n",
    "\n",
    "    predicted = model.predict(val_data)\n",
    "\n",
    "    acc = accuracy_score(val_labels, predicted)\n",
    "    scores[\"acc\"].append(acc)\n",
    "    prec = precision_score(val_labels, predicted)\n",
    "    scores[\"prec\"].append(prec)\n",
    "    rec = recall_score(val_labels, predicted)\n",
    "    scores[\"rec\"].append(rec)\n",
    "    print(\"Acc:\", round(acc, 3), \"Prec:\", round(prec, 3), \"Rec:\", round(rec, 3))\n",
    "\n",
    "    \n",
    "    importance_vals = model.feature_importances_[-len(names):]\n",
    "    importance_fold = pd.DataFrame({\"cols\": names, \"fold\": i,\n",
    "                                    \"importance\": importance_vals})\n",
    "    importance = pd.concat([importance, importance_fold])"
   ]
  },
  {
   "cell_type": "code",
   "execution_count": 19,
   "metadata": {},
   "outputs": [
    {
     "data": {
      "image/png": "[encoded data removed]",
      "text/plain": [
       "<Figure size 360x360 with 1 Axes>"
      ]
     },
     "metadata": {
      "needs_background": "light"
     },
     "output_type": "display_data"
    }
   ],
   "source": [
    "sns.catplot(x=\"cols\", y=\"importance\", kind=\"bar\", data=importance);"
   ]
  },
  {
   "cell_type": "code",
   "execution_count": 20,
   "metadata": {},
   "outputs": [
    {
     "name": "stdout",
     "output_type": "stream",
     "text": [
      "Average\n",
      "acc: 0.767\n",
      "prec: 0.789\n",
      "rec: 0.728\n"
     ]
    }
   ],
   "source": [
    "print_avg(scores)"
   ]
  },
  {
   "cell_type": "code",
   "execution_count": 21,
   "metadata": {},
   "outputs": [
    {
     "name": "stdout",
     "output_type": "stream",
     "text": [
      "Acc: 0.777 Prec: 0.803 Rec: 0.732\n"
     ]
    }
   ],
   "source": [
    "tra_texts = vectorizer.fit_transform(train_texts)\n",
    "tes_texts = vectorizer.transform(test_texts)\n",
    "tra_data = sparse.hstack((tra_texts, train_features))\n",
    "tes_data = sparse.hstack((tes_texts, test_features))\n",
    "\n",
    "model = RandomForestClassifier(random_state=0, n_jobs=-1, n_estimators=200,\n",
    "                               max_depth=200, min_samples_leaf=1)\n",
    "model.fit(tra_data, train_labels)\n",
    "predicted = model.predict(tes_data)\n",
    "\n",
    "acc = accuracy_score(test_labels, predicted)\n",
    "prec = precision_score(test_labels, predicted)\n",
    "rec = recall_score(test_labels, predicted)\n",
    "\n",
    "print(\"Acc:\", round(acc, 3),\n",
    "      \"Prec:\", round(prec, 3),\n",
    "      \"Rec:\", round(rec, 3))"
   ]
  },
  {
   "cell_type": "markdown",
   "metadata": {},
   "source": [
    "### Logistic regression"
   ]
  },
  {
   "cell_type": "code",
   "execution_count": 22,
   "metadata": {},
   "outputs": [
    {
     "name": "stdout",
     "output_type": "stream",
     "text": [
      "Acc: 0.751 Prec: 0.76 Rec: 0.735\n",
      "Acc: 0.752 Prec: 0.759 Rec: 0.737\n",
      "Acc: 0.749 Prec: 0.756 Rec: 0.735\n"
     ]
    }
   ],
   "source": [
    "scores = {\"acc\":[], \"prec\": [], \"rec\": []}\n",
    "importance = pd.DataFrame()\n",
    "for i, (tra_data, val_data, tra_labels, val_labels) in enumerate(datas):\n",
    "\n",
    "    model = LogisticRegression(solver=\"liblinear\", random_state=0, max_iter=1000, C=1, penalty=\"l2\")\n",
    "    model.fit(tra_data, tra_labels)\n",
    "\n",
    "    predicted = model.predict(val_data)\n",
    "\n",
    "    acc = accuracy_score(val_labels, predicted)\n",
    "    scores[\"acc\"].append(acc)\n",
    "    prec = precision_score(val_labels, predicted)\n",
    "    scores[\"prec\"].append(prec)\n",
    "    rec = recall_score(val_labels, predicted)\n",
    "    scores[\"rec\"].append(rec)\n",
    "    print(\"Acc:\", round(acc, 3), \"Prec:\", round(prec, 3), \"Rec:\", round(rec, 3))\n",
    "    \n",
    "    importance_vals = model.coef_.ravel()[-len(names):]\n",
    "    importance_fold = pd.DataFrame({\"cols\": names, \"fold\": i,\n",
    "                                    \"importance\": importance_vals})\n",
    "    importance = pd.concat([importance, importance_fold])"
   ]
  },
  {
   "cell_type": "code",
   "execution_count": 23,
   "metadata": {
    "scrolled": true
   },
   "outputs": [
    {
     "name": "stdout",
     "output_type": "stream",
     "text": [
      "Average\n",
      "acc: 0.751\n",
      "prec: 0.758\n",
      "rec: 0.736\n"
     ]
    }
   ],
   "source": [
    "print_avg(scores)"
   ]
  },
  {
   "cell_type": "code",
   "execution_count": 24,
   "metadata": {},
   "outputs": [
    {
     "name": "stdout",
     "output_type": "stream",
     "text": [
      "Acc: 0.758 Prec: 0.767 Rec: 0.74\n"
     ]
    }
   ],
   "source": [
    "tra_texts = vectorizer.fit_transform(train_texts)\n",
    "tes_texts = vectorizer.transform(test_texts)\n",
    "tra_data = sparse.hstack((tra_texts, train_features))\n",
    "tes_data = sparse.hstack((tes_texts, test_features))\n",
    "\n",
    "model = LogisticRegression(random_state=0, n_jobs=-1, max_iter=1000, tol=1e-3, C=1)\n",
    "model.fit(tra_data, train_labels)\n",
    "predicted = model.predict(tes_data)\n",
    "\n",
    "acc = accuracy_score(test_labels, predicted)\n",
    "prec = precision_score(test_labels, predicted)\n",
    "rec = recall_score(test_labels, predicted)\n",
    "\n",
    "print(\"Acc:\", round(acc, 3),\n",
    "      \"Prec:\", round(prec, 3),\n",
    "      \"Rec:\", round(rec, 3))"
   ]
  },
  {
   "cell_type": "markdown",
   "metadata": {},
   "source": [
    "### Bayes"
   ]
  },
  {
   "cell_type": "code",
   "execution_count": 25,
   "metadata": {},
   "outputs": [
    {
     "name": "stdout",
     "output_type": "stream",
     "text": [
      "Acc: 0.66 Prec: 0.632 Rec: 0.763\n",
      "Acc: 0.714 Prec: 0.693 Rec: 0.766\n",
      "Acc: 0.708 Prec: 0.685 Rec: 0.769\n"
     ]
    }
   ],
   "source": [
    "scores = {\"acc\":[], \"prec\": [], \"rec\": []}\n",
    "for i, (tra_data, val_data, tra_labels, val_labels) in enumerate(datas):\n",
    "\n",
    "    model = MultinomialNB(alpha=1e-10)\n",
    "    model.fit(tra_data, tra_labels)\n",
    "\n",
    "    predicted = model.predict(val_data)\n",
    "\n",
    "    acc = accuracy_score(val_labels, predicted)\n",
    "    scores[\"acc\"].append(acc)\n",
    "    prec = precision_score(val_labels, predicted)\n",
    "    scores[\"prec\"].append(prec)\n",
    "    rec = recall_score(val_labels, predicted)\n",
    "    scores[\"rec\"].append(rec)\n",
    "    print(\"Acc:\", round(acc, 3), \"Prec:\", round(prec, 3), \"Rec:\", round(rec, 3))"
   ]
  },
  {
   "cell_type": "code",
   "execution_count": 26,
   "metadata": {},
   "outputs": [
    {
     "name": "stdout",
     "output_type": "stream",
     "text": [
      "Average\n",
      "acc: 0.694\n",
      "prec: 0.67\n",
      "rec: 0.766\n"
     ]
    }
   ],
   "source": [
    "print_avg(scores)"
   ]
  },
  {
   "cell_type": "code",
   "execution_count": 27,
   "metadata": {},
   "outputs": [
    {
     "name": "stdout",
     "output_type": "stream",
     "text": [
      "Acc: 0.715 Prec: 0.694 Rec: 0.77\n"
     ]
    }
   ],
   "source": [
    "tra_texts = vectorizer.fit_transform(train_texts)\n",
    "tes_texts = vectorizer.transform(test_texts)\n",
    "tra_data = sparse.hstack((tra_texts, train_features))\n",
    "tes_data = sparse.hstack((tes_texts, test_features))\n",
    "\n",
    "model = MultinomialNB(alpha=1e-10)\n",
    "model.fit(tra_data, train_labels)\n",
    "predicted = model.predict(tes_data)\n",
    "\n",
    "acc = accuracy_score(test_labels, predicted)\n",
    "prec = precision_score(test_labels, predicted)\n",
    "rec = recall_score(test_labels, predicted)\n",
    "\n",
    "print(\"Acc:\", round(acc, 3),\n",
    "      \"Prec:\", round(prec, 3),\n",
    "      \"Rec:\", round(rec, 3))"
   ]
  },
  {
   "cell_type": "code",
   "execution_count": null,
   "metadata": {},
   "outputs": [],
   "source": []
  }
 ],
 "metadata": {
  "kernelspec": {
   "display_name": ".env",
   "language": "python",
   "name": ".env"
  },
  "language_info": {
   "codemirror_mode": {
    "name": "ipython",
    "version": 3
   },
   "file_extension": ".py",
   "mimetype": "text/x-python",
   "name": "python",
   "nbconvert_exporter": "python",
   "pygments_lexer": "ipython3",
   "version": "3.7.3"
  }
 },
 "nbformat": 4,
 "nbformat_minor": 2
}
